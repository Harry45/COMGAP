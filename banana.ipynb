{
 "cells": [
  {
   "cell_type": "code",
   "execution_count": 38,
   "metadata": {},
   "outputs": [],
   "source": [
    "import numpy as np \n",
    "import matplotlib.pylab as plt \n",
    "from matplotlib import cm\n",
    "import emcee \n",
    "import scipy.stats as ss \n",
    "\n",
    "from getdist import plots, MCSamples\n",
    "import getdist\n",
    "\n",
    "fontSize = 20\n",
    "\n",
    "plt.rc('text', usetex=True)\n",
    "plt.rc('font',**{'family':'sans-serif','serif':['Palatino']})\n",
    "\n",
    "settings={'mult_bias_correction_order':0,'smooth_scale_2D':0.1, 'smooth_scale_1D':0.1}\n",
    "np.set_printoptions(precision=3)"
   ]
  },
  {
   "cell_type": "markdown",
   "metadata": {},
   "source": [
    "### Equation\n",
    "\n",
    "$$\n",
    "y|\\theta \\sim N(\\theta_{1}+\\theta_{2}^{2},\\sigma_{y}^{2})\n",
    "$$\n",
    "\n",
    "$$\n",
    "\\theta \\sim N(0, \\sigma_{\\theta}^{2})\n",
    "$$\n",
    "\n",
    "- $\\theta_{1}+\\theta_{2}^{2}=1$\n",
    "- $\\sigma_{y}=2$\n",
    "- $\\sigma_{\\theta}=1$"
   ]
  },
  {
   "cell_type": "code",
   "execution_count": 76,
   "metadata": {},
   "outputs": [],
   "source": [
    "theta1 = 0.5\n",
    "theta2 = np.sqrt(1-0.5)\n",
    "sigma_y = 2.0\n",
    "sigma_theta = 1.0\n",
    "ndata = 100"
   ]
  },
  {
   "cell_type": "code",
   "execution_count": 77,
   "metadata": {},
   "outputs": [],
   "source": [
    "def model(theta):\n",
    "    return theta[0] + theta[1]**2"
   ]
  },
  {
   "cell_type": "code",
   "execution_count": 78,
   "metadata": {},
   "outputs": [],
   "source": [
    "def logprior(theta):\n",
    "    ntheta = len(theta)\n",
    "    identity = np.identity(ntheta)\n",
    "    dist = ss.multivariate_normal(np.zeros(ntheta), identity)\n",
    "    return dist.logpdf(theta)"
   ]
  },
  {
   "cell_type": "code",
   "execution_count": 79,
   "metadata": {},
   "outputs": [],
   "source": [
    "def loglike(theta, data, sigma):\n",
    "    theory = model(theta)\n",
    "    diff = data - theory \n",
    "    chi2 = np.sum((diff/sigma)**2)\n",
    "    return -0.5*chi2"
   ]
  },
  {
   "cell_type": "code",
   "execution_count": 80,
   "metadata": {},
   "outputs": [],
   "source": [
    "def logpost(theta, data, sigma):\n",
    "    log_l = loglike(theta, data, sigma)\n",
    "    log_p = logprior(theta)\n",
    "    return log_l + log_p"
   ]
  },
  {
   "cell_type": "code",
   "execution_count": 81,
   "metadata": {},
   "outputs": [],
   "source": [
    "data = model([theta1, theta2]) + np.random.normal(0, sigma_y, ndata)"
   ]
  },
  {
   "cell_type": "code",
   "execution_count": 82,
   "metadata": {},
   "outputs": [
    {
     "name": "stderr",
     "output_type": "stream",
     "text": [
      "100%|██████████| 10000/10000 [01:07<00:00, 147.46it/s]\n"
     ]
    }
   ],
   "source": [
    "pos = np.array([theta1, theta2]) + 0.1 * np.random.randn(32, 2)\n",
    "\n",
    "nwalkers, ndim = pos.shape\n",
    "\n",
    "sampler = emcee.EnsembleSampler(nwalkers, ndim, logpost, args=(data, sigma_y))\n",
    "\n",
    "sampler.run_mcmc(pos, 10000, progress=True);"
   ]
  },
  {
   "cell_type": "code",
   "execution_count": 83,
   "metadata": {},
   "outputs": [
    {
     "name": "stdout",
     "output_type": "stream",
     "text": [
      "Removed no burn in\n"
     ]
    }
   ],
   "source": [
    "names = [\"x%s\"%i for i in range(ndim)]\n",
    "labels =  [r\"$\\theta_%s$\"%i for i in range(ndim)]\n",
    "samples = MCSamples(samples=sampler.flatchain, names = names, labels = labels, settings = settings)"
   ]
  },
  {
   "cell_type": "code",
   "execution_count": 84,
   "metadata": {},
   "outputs": [
    {
     "data": {
      "image/png": "[encoded data removed]",
      "text/plain": [
       "<Figure size 576x576 with 1 Axes>"
      ]
     },
     "metadata": {},
     "output_type": "display_data"
    }
   ],
   "source": [
    "cont_color = cm.tab10.colors[4]\n",
    "g = plots.get_single_plotter(width_inch=8, ratio=1)\n",
    "g.settings.axes_fontsize = 30\n",
    "g.settings.lab_fontsize = 30\n",
    "g.settings.fontsize = 35\n",
    "g.settings.solid_contour_palefactor = 0.9\n",
    "g.settings.alpha_filled_add = 0.6\n",
    "g.settings.alpha_factor_contour_lines = 0.9\n",
    "g.settings.lw_contour = 2\n",
    "g.plot_2d([samples], 'x0', 'x1', filled=True, colors=[cont_color])\n",
    "plt.show()"
   ]
  },
  {
   "cell_type": "code",
   "execution_count": 73,
   "metadata": {},
   "outputs": [
    {
     "data": {
      "text/plain": [
       "array([0.373, 0.025])"
      ]
     },
     "execution_count": 73,
     "metadata": {},
     "output_type": "execute_result"
    }
   ],
   "source": [
    "np.mean(sampler.flatchain, axis = 0)"
   ]
  },
  {
   "cell_type": "code",
   "execution_count": 75,
   "metadata": {},
   "outputs": [
    {
     "data": {
      "text/plain": [
       "array([0.534, 0.036])"
      ]
     },
     "execution_count": 75,
     "metadata": {},
     "output_type": "execute_result"
    }
   ],
   "source": [
    "np.median(sampler.flatchain, axis = 0)"
   ]
  },
  {
   "cell_type": "code",
   "execution_count": 74,
   "metadata": {},
   "outputs": [
    {
     "data": {
      "text/plain": [
       "[0.5, 0.7071067811865476]"
      ]
     },
     "execution_count": 74,
     "metadata": {},
     "output_type": "execute_result"
    }
   ],
   "source": [
    "[theta1, theta2]"
   ]
  },
  {
   "cell_type": "code",
   "execution_count": null,
   "metadata": {},
   "outputs": [],
   "source": []
  }
 ],
 "metadata": {
  "kernelspec": {
   "display_name": "Python 3",
   "language": "python",
   "name": "python3"
  },
  "language_info": {
   "codemirror_mode": {
    "name": "ipython",
    "version": 3
   },
   "file_extension": ".py",
   "mimetype": "text/x-python",
   "name": "python",
   "nbconvert_exporter": "python",
   "pygments_lexer": "ipython3",
   "version": "3.6.5"
  }
 },
 "nbformat": 4,
 "nbformat_minor": 2
}
