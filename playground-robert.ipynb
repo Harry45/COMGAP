{
 "cells": [
  {
   "cell_type": "code",
   "execution_count": 1,
   "id": "cf1e9d04",
   "metadata": {},
   "outputs": [],
   "source": [
    "import torch\n",
    "import pandas as pd\n",
    "import numpy as np \n",
    "import matplotlib.pylab as plt \n",
    "\n",
    "# our scripts and functions\n",
    "from src.gp.gaussianprocess import GaussianProcess\n",
    "import src.cosmofuncs as cf\n",
    "import src.model as sm\n",
    "import src.compression as sc \n",
    "import src.optimisation as so\n",
    "import utils.helpers as hp\n",
    "import setting as st\n",
    "\n",
    "\n",
    "plt.rc('text', usetex=True)\n",
    "plt.rc('font',**{'family':'sans-serif','serif':['Palatino']})\n",
    "figSize  = (12, 8)\n",
    "fontSize = 20"
   ]
  },
  {
   "cell_type": "code",
   "execution_count": 2,
   "id": "753a2ee5",
   "metadata": {},
   "outputs": [],
   "source": [
    "model = sm.AppMag(load_data=True)"
   ]
  },
  {
   "cell_type": "markdown",
   "id": "3c5c051e",
   "metadata": {},
   "source": [
    "# Compression"
   ]
  },
  {
   "cell_type": "code",
   "execution_count": 3,
   "id": "ffcf1db3",
   "metadata": {},
   "outputs": [
    {
     "name": "stdout",
     "output_type": "stream",
     "text": [
      "0 0 :  1.0000\n",
      "1 0 : -0.0000\n",
      "1 1 :  1.0000\n",
      "2 0 :  0.0000\n",
      "2 1 :  0.0000\n",
      "2 2 :  1.0000\n",
      "3 0 : -0.0000\n",
      "3 1 : -0.0000\n",
      "3 2 : -0.0000\n",
      "3 3 :  1.0000\n",
      "4 0 :  0.0000\n",
      "4 1 : -0.0000\n",
      "4 2 : -0.0000\n",
      "4 3 :  0.0000\n",
      "4 4 :  1.0000\n",
      "5 0 :  0.0000\n",
      "5 1 : -0.0000\n",
      "5 2 : -0.0000\n",
      "5 3 : -0.0000\n",
      "5 4 : -0.0000\n",
      "5 5 :  1.0000\n"
     ]
    }
   ],
   "source": [
    "comp = sc.moped(load_data = True)\n",
    "moped_vectors = comp.vectors(model.mle)"
   ]
  },
  {
   "cell_type": "markdown",
   "id": "c4087c59",
   "metadata": {},
   "source": [
    "# Emulation\n",
    "\n",
    "We will emulate the MOPED coefficients. "
   ]
  },
  {
   "cell_type": "code",
   "execution_count": 4,
   "id": "1b221cee",
   "metadata": {},
   "outputs": [],
   "source": [
    "num = 500\n",
    "csv = pd.read_csv('simulations/simulations_'+str(num)+'.csv')\n",
    "mopedcoeffs = csv[[f'exact_{i+1}' for i in range(6)]]"
   ]
  },
  {
   "cell_type": "code",
   "execution_count": 5,
   "id": "f2719575",
   "metadata": {},
   "outputs": [],
   "source": [
    "# these are the cosmological and nuisance parameters\n",
    "inputs = torch.from_numpy(csv.iloc[:,0:6].values)\n",
    "\n",
    "niter = 500\n",
    "lr = 0.01\n",
    "nrestart = 3 "
   ]
  },
  {
   "cell_type": "code",
   "execution_count": 6,
   "id": "a92ec167",
   "metadata": {},
   "outputs": [],
   "source": [
    "gp_moped = {}\n",
    "for i in range(6):\n",
    "    # this is the i^th MOPED coefficient\n",
    "    output = torch.from_numpy(mopedcoeffs.iloc[:,i].values)\n",
    "    \n",
    "    # train the GP\n",
    "    GP_module = GaussianProcess(inputs, output, 1E-5)\n",
    "    start = torch.randn((inputs.shape[1]+1,))\n",
    "    optimum = GP_module.optimisation(parameters = start, niter = niter, l_rate=lr, nrestart = nrestart)\n",
    "    gp_moped[f'gp_{i+1}'] = GP_module"
   ]
  },
  {
   "cell_type": "markdown",
   "id": "c44df97f",
   "metadata": {},
   "source": [
    "# Test Prediction"
   ]
  },
  {
   "cell_type": "code",
   "execution_count": 11,
   "id": "ab87956f",
   "metadata": {},
   "outputs": [],
   "source": [
    "param = torch.tensor([0.15, -1.0, -19.04, -0.04, 0.125, 2.60])"
   ]
  },
  {
   "cell_type": "code",
   "execution_count": 12,
   "id": "bf03f14d",
   "metadata": {},
   "outputs": [],
   "source": [
    "theory = model.theory_only(param)"
   ]
  },
  {
   "cell_type": "code",
   "execution_count": 13,
   "id": "a8dded53",
   "metadata": {},
   "outputs": [
    {
     "data": {
      "text/plain": [
       "tensor([-1.1648e+03, -5.4407e+02,  6.9902e+02,  8.8756e-01,  1.4377e+01,\n",
       "         3.2957e+01])"
      ]
     },
     "execution_count": 13,
     "metadata": {},
     "output_type": "execute_result"
    }
   ],
   "source": [
    "comp.compute_coefficients(theory)"
   ]
  },
  {
   "cell_type": "code",
   "execution_count": 15,
   "id": "8210ec29",
   "metadata": {},
   "outputs": [
    {
     "data": {
      "text/plain": [
       "tensor([-1.1648e+03, -5.4408e+02,  6.9902e+02,  8.9219e-01,  1.4376e+01,\n",
       "         3.2950e+01], dtype=torch.float64)"
      ]
     },
     "execution_count": 15,
     "metadata": {},
     "output_type": "execute_result"
    }
   ],
   "source": [
    "torch.cat([gp_moped[f'gp_{i+1}'].mean_prediction(param).data for i in range(6)])"
   ]
  },
  {
   "cell_type": "markdown",
   "id": "a242fa2f",
   "metadata": {},
   "source": [
    "# Accuracy Test\n",
    "\n",
    "- Sample a few points from the prior. \n",
    "- Compute the MOPED coefficients. \n",
    "- Calculate the accuracy for each emulator.\n",
    "\n",
    "$$\n",
    "A = \\dfrac{\\mu - \\mu_{\\textrm{emu}}}{\\mu} \\times 100\n",
    "$$"
   ]
  },
  {
   "cell_type": "code",
   "execution_count": 36,
   "id": "772aed36",
   "metadata": {},
   "outputs": [],
   "source": [
    "import src.trainingpoints as stp"
   ]
  },
  {
   "cell_type": "code",
   "execution_count": 37,
   "id": "d7c0da72",
   "metadata": {},
   "outputs": [],
   "source": [
    "module = stp.simulations(load_data = True, nlhs = 500)"
   ]
  },
  {
   "cell_type": "code",
   "execution_count": 50,
   "id": "124054bb",
   "metadata": {},
   "outputs": [],
   "source": [
    "ntest = 100"
   ]
  },
  {
   "cell_type": "code",
   "execution_count": 56,
   "id": "8e9f9f9e",
   "metadata": {},
   "outputs": [],
   "source": [
    "samples_om = module.dist['p0'].rsample(torch.Size([ntest])).numpy().reshape(ntest, 1)\n",
    "samples_w0 = module.dist['p1'].rsample(torch.Size([ntest])).numpy().reshape(ntest, 1)\n",
    "samples_nuisance = module.dist['p_nuisance'].rsample(torch.Size([ntest])).numpy().reshape(ntest, 4)"
   ]
  },
  {
   "cell_type": "code",
   "execution_count": 58,
   "id": "26450b62",
   "metadata": {},
   "outputs": [],
   "source": [
    "testpoints = np.concatenate([samples_om, samples_w0, samples_nuisance], axis = 1)"
   ]
  },
  {
   "cell_type": "markdown",
   "id": "1d2e5065",
   "metadata": {},
   "source": [
    "To continue here."
   ]
  },
  {
   "cell_type": "markdown",
   "id": "7d7336bf",
   "metadata": {},
   "source": [
    "# MCMC\n",
    "\n",
    "To couple emulator with MCMC routine. "
   ]
  },
  {
   "cell_type": "code",
   "execution_count": null,
   "id": "81b66beb",
   "metadata": {},
   "outputs": [],
   "source": []
  }
 ],
 "metadata": {
  "kernelspec": {
   "display_name": "Python 3",
   "language": "python",
   "name": "python3"
  },
  "language_info": {
   "codemirror_mode": {
    "name": "ipython",
    "version": 3
   },
   "file_extension": ".py",
   "mimetype": "text/x-python",
   "name": "python",
   "nbconvert_exporter": "python",
   "pygments_lexer": "ipython3",
   "version": "3.7.6"
  }
 },
 "nbformat": 4,
 "nbformat_minor": 5
}
